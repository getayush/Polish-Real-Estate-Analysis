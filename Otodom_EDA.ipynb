{
 "cells": [
  {
   "cell_type": "code",
   "execution_count": 1,
   "id": "3d8ae1fd",
   "metadata": {},
   "outputs": [
    {
     "data": {
      "text/html": [
       "<div>\n",
       "<style scoped>\n",
       "    .dataframe tbody tr th:only-of-type {\n",
       "        vertical-align: middle;\n",
       "    }\n",
       "\n",
       "    .dataframe tbody tr th {\n",
       "        vertical-align: top;\n",
       "    }\n",
       "\n",
       "    .dataframe thead th {\n",
       "        text-align: right;\n",
       "    }\n",
       "</style>\n",
       "<table border=\"1\" class=\"dataframe\">\n",
       "  <thead>\n",
       "    <tr style=\"text-align: right;\">\n",
       "      <th></th>\n",
       "      <th>timestamp</th>\n",
       "      <th>title</th>\n",
       "      <th>price</th>\n",
       "      <th>market</th>\n",
       "      <th>surface</th>\n",
       "      <th>location</th>\n",
       "      <th>remote_support</th>\n",
       "      <th>lighting</th>\n",
       "      <th>advertiser_type</th>\n",
       "      <th>description</th>\n",
       "      <th>no_of_rooms</th>\n",
       "      <th>form_of_property</th>\n",
       "      <th>url</th>\n",
       "      <th>is_for_sale</th>\n",
       "      <th>posting_id</th>\n",
       "    </tr>\n",
       "  </thead>\n",
       "  <tbody>\n",
       "    <tr>\n",
       "      <th>0</th>\n",
       "      <td>2024-02-20</td>\n",
       "      <td>Kameralny zakątek blisko wszędzie 2 pokoje 55 ...</td>\n",
       "      <td>660000.0</td>\n",
       "      <td>market,secondary</td>\n",
       "      <td>55</td>\n",
       "      <td>Mysiadło, Lesznowola, piaseczyński, mazowieckie</td>\n",
       "      <td>NaN</td>\n",
       "      <td>NaN</td>\n",
       "      <td>agency</td>\n",
       "      <td>Jeśli chcesz mieszkać w zielonej okolicy lecz ...</td>\n",
       "      <td>2</td>\n",
       "      <td>pełna własność</td>\n",
       "      <td>https://otodom.pl/pl/oferta/kameralny-zakatek-...</td>\n",
       "      <td>True</td>\n",
       "      <td>4n5Li</td>\n",
       "    </tr>\n",
       "    <tr>\n",
       "      <th>1</th>\n",
       "      <td>2024-02-20</td>\n",
       "      <td>Wykończone mieszkanie, gotowe do zamieszkania!</td>\n",
       "      <td>395000.0</td>\n",
       "      <td>market,secondary</td>\n",
       "      <td>33.72</td>\n",
       "      <td>ul. Saperów 12, Kazuń Nowy, Czosnów, nowodwors...</td>\n",
       "      <td>NaN</td>\n",
       "      <td>NaN</td>\n",
       "      <td>agency</td>\n",
       "      <td>Z dumą prezentujemy na sprzedaż urokliwe miesz...</td>\n",
       "      <td>2</td>\n",
       "      <td>pełna własność</td>\n",
       "      <td>https://otodom.pl/pl/oferta/wykonczone-mieszka...</td>\n",
       "      <td>True</td>\n",
       "      <td>4p7BD</td>\n",
       "    </tr>\n",
       "    <tr>\n",
       "      <th>2</th>\n",
       "      <td>2024-02-20</td>\n",
       "      <td>Mieszkanie 4-pokojowe,blisko jeziora na I pięt...</td>\n",
       "      <td>330000.0</td>\n",
       "      <td>market,secondary</td>\n",
       "      <td>56.51</td>\n",
       "      <td>ul. Reinholda Barcza, Szczytno, szczycieński, ...</td>\n",
       "      <td>NaN</td>\n",
       "      <td>NaN</td>\n",
       "      <td>agency</td>\n",
       "      <td>Jeśli szukają Państwo idealnej nieruchomości, ...</td>\n",
       "      <td>4</td>\n",
       "      <td>pełna własność</td>\n",
       "      <td>https://otodom.pl/pl/oferta/mieszkanie-4-pokoj...</td>\n",
       "      <td>True</td>\n",
       "      <td>4paZL</td>\n",
       "    </tr>\n",
       "    <tr>\n",
       "      <th>3</th>\n",
       "      <td>2024-02-20</td>\n",
       "      <td>4 pokoje, 81 m2, w super lokalizacji</td>\n",
       "      <td>688000.0</td>\n",
       "      <td>market,secondary</td>\n",
       "      <td>81</td>\n",
       "      <td>ul. Niepodległości, Gorzów Wielkopolski, lubuskie</td>\n",
       "      <td>NaN</td>\n",
       "      <td>NaN</td>\n",
       "      <td>private</td>\n",
       "      <td>Sprzedaż bez pośredników, bez prowizjiSprzedam...</td>\n",
       "      <td>4</td>\n",
       "      <td>pełna własność</td>\n",
       "      <td>https://otodom.pl/pl/oferta/4-pokoje-81-m2-w-s...</td>\n",
       "      <td>True</td>\n",
       "      <td>4oQHS</td>\n",
       "    </tr>\n",
       "    <tr>\n",
       "      <th>4</th>\n",
       "      <td>2024-02-20</td>\n",
       "      <td>Sprzedam Mieszkanie ul. Kwiatowa-Lubin</td>\n",
       "      <td>390000.0</td>\n",
       "      <td>market,primary</td>\n",
       "      <td>40.18</td>\n",
       "      <td>ul. Kwiatowa, Lubin, lubiński, dolnośląskie</td>\n",
       "      <td>NaN</td>\n",
       "      <td>NaN</td>\n",
       "      <td>private</td>\n",
       "      <td>Oferta od właściciela- bez Pośredników.\\r\\n\\r\\...</td>\n",
       "      <td>2</td>\n",
       "      <td>pełna własność</td>\n",
       "      <td>https://otodom.pl/pl/oferta/sprzedam-mieszkani...</td>\n",
       "      <td>True</td>\n",
       "      <td>4oYh5</td>\n",
       "    </tr>\n",
       "  </tbody>\n",
       "</table>\n",
       "</div>"
      ],
      "text/plain": [
       "    timestamp                                              title     price  \\\n",
       "0  2024-02-20  Kameralny zakątek blisko wszędzie 2 pokoje 55 ...  660000.0   \n",
       "1  2024-02-20     Wykończone mieszkanie, gotowe do zamieszkania!  395000.0   \n",
       "2  2024-02-20  Mieszkanie 4-pokojowe,blisko jeziora na I pięt...  330000.0   \n",
       "3  2024-02-20               4 pokoje, 81 m2, w super lokalizacji  688000.0   \n",
       "4  2024-02-20             Sprzedam Mieszkanie ul. Kwiatowa-Lubin  390000.0   \n",
       "\n",
       "             market surface  \\\n",
       "0  market,secondary      55   \n",
       "1  market,secondary   33.72   \n",
       "2  market,secondary   56.51   \n",
       "3  market,secondary      81   \n",
       "4    market,primary   40.18   \n",
       "\n",
       "                                            location remote_support  lighting  \\\n",
       "0    Mysiadło, Lesznowola, piaseczyński, mazowieckie            NaN       NaN   \n",
       "1  ul. Saperów 12, Kazuń Nowy, Czosnów, nowodwors...            NaN       NaN   \n",
       "2  ul. Reinholda Barcza, Szczytno, szczycieński, ...            NaN       NaN   \n",
       "3  ul. Niepodległości, Gorzów Wielkopolski, lubuskie            NaN       NaN   \n",
       "4        ul. Kwiatowa, Lubin, lubiński, dolnośląskie            NaN       NaN   \n",
       "\n",
       "  advertiser_type                                        description  \\\n",
       "0          agency  Jeśli chcesz mieszkać w zielonej okolicy lecz ...   \n",
       "1          agency  Z dumą prezentujemy na sprzedaż urokliwe miesz...   \n",
       "2          agency  Jeśli szukają Państwo idealnej nieruchomości, ...   \n",
       "3         private  Sprzedaż bez pośredników, bez prowizjiSprzedam...   \n",
       "4         private  Oferta od właściciela- bez Pośredników.\\r\\n\\r\\...   \n",
       "\n",
       "   no_of_rooms form_of_property  \\\n",
       "0            2   pełna własność   \n",
       "1            2   pełna własność   \n",
       "2            4   pełna własność   \n",
       "3            4   pełna własność   \n",
       "4            2   pełna własność   \n",
       "\n",
       "                                                 url  is_for_sale posting_id  \n",
       "0  https://otodom.pl/pl/oferta/kameralny-zakatek-...         True      4n5Li  \n",
       "1  https://otodom.pl/pl/oferta/wykonczone-mieszka...         True      4p7BD  \n",
       "2  https://otodom.pl/pl/oferta/mieszkanie-4-pokoj...         True      4paZL  \n",
       "3  https://otodom.pl/pl/oferta/4-pokoje-81-m2-w-s...         True      4oQHS  \n",
       "4  https://otodom.pl/pl/oferta/sprzedam-mieszkani...         True      4oYh5  "
      ]
     },
     "execution_count": 1,
     "metadata": {},
     "output_type": "execute_result"
    }
   ],
   "source": [
    "import pandas as pd\n",
    "df=pd.read_csv(r\"E:\\Github Projects\\Otodom\\Otodom Poland.csv\")\n",
    "df.head()"
   ]
  },
  {
   "cell_type": "code",
   "execution_count": 2,
   "id": "6d934a46",
   "metadata": {},
   "outputs": [
    {
     "data": {
      "text/plain": [
       "(1000, 15)"
      ]
     },
     "execution_count": 2,
     "metadata": {},
     "output_type": "execute_result"
    }
   ],
   "source": [
    "df.shape"
   ]
  },
  {
   "cell_type": "code",
   "execution_count": 3,
   "id": "1c433659",
   "metadata": {},
   "outputs": [
    {
     "name": "stdout",
     "output_type": "stream",
     "text": [
      "<class 'pandas.core.frame.DataFrame'>\n",
      "RangeIndex: 1000 entries, 0 to 999\n",
      "Data columns (total 15 columns):\n",
      " #   Column            Non-Null Count  Dtype  \n",
      "---  ------            --------------  -----  \n",
      " 0   timestamp         1000 non-null   object \n",
      " 1   title             1000 non-null   object \n",
      " 2   price             995 non-null    float64\n",
      " 3   market            997 non-null    object \n",
      " 4   surface           1000 non-null   object \n",
      " 5   location          1000 non-null   object \n",
      " 6   remote_support    258 non-null    object \n",
      " 7   lighting          0 non-null      float64\n",
      " 8   advertiser_type   1000 non-null   object \n",
      " 9   description       1000 non-null   object \n",
      " 10  no_of_rooms       1000 non-null   int64  \n",
      " 11  form_of_property  905 non-null    object \n",
      " 12  url               1000 non-null   object \n",
      " 13  is_for_sale       1000 non-null   bool   \n",
      " 14  posting_id        976 non-null    object \n",
      "dtypes: bool(1), float64(2), int64(1), object(11)\n",
      "memory usage: 110.5+ KB\n"
     ]
    }
   ],
   "source": [
    "df.info()"
   ]
  },
  {
   "cell_type": "markdown",
   "id": "2c239478",
   "metadata": {},
   "source": [
    "<span style=\"color:blue\">HANDLING MISSING VALUES</span>"
   ]
  },
  {
   "cell_type": "code",
   "execution_count": 4,
   "id": "4c9f9bd7",
   "metadata": {},
   "outputs": [
    {
     "data": {
      "text/plain": [
       "timestamp              0\n",
       "title                  0\n",
       "price                  5\n",
       "market                 3\n",
       "surface                0\n",
       "location               0\n",
       "remote_support       742\n",
       "lighting            1000\n",
       "advertiser_type        0\n",
       "description            0\n",
       "no_of_rooms            0\n",
       "form_of_property      95\n",
       "url                    0\n",
       "is_for_sale            0\n",
       "posting_id            24\n",
       "dtype: int64"
      ]
     },
     "execution_count": 4,
     "metadata": {},
     "output_type": "execute_result"
    }
   ],
   "source": [
    "df.isna().sum()"
   ]
  },
  {
   "cell_type": "markdown",
   "id": "d55eaae3",
   "metadata": {},
   "source": [
    "<span style=\"color:blue\">Since the column lighting is completely null we can drop it entirely. Also we can impute with mean for price column since it's numerical, for categorical column 'market', 'form_of_property' we can impute with mode. Also we can drop the null entries for the column 'posting_id'</span>"
   ]
  },
  {
   "cell_type": "code",
   "execution_count": 5,
   "id": "ec28812f",
   "metadata": {},
   "outputs": [],
   "source": [
    "df=df.drop('lighting', axis=1)\n",
    "df['price'].fillna(df['price'].mean(), inplace=True)\n",
    "df['market'].fillna(df['market'].mode()[0], inplace=True)\n",
    "df['form_of_property'].fillna(df['form_of_property'].mode()[0], inplace=True)\n",
    "df.dropna(subset=['posting_id'], inplace=True)"
   ]
  },
  {
   "cell_type": "code",
   "execution_count": 6,
   "id": "ca7590a4",
   "metadata": {},
   "outputs": [
    {
     "data": {
      "text/plain": [
       "timestamp             0\n",
       "title                 0\n",
       "price                 0\n",
       "market                0\n",
       "surface               0\n",
       "location              0\n",
       "remote_support      738\n",
       "advertiser_type       0\n",
       "description           0\n",
       "no_of_rooms           0\n",
       "form_of_property      0\n",
       "url                   0\n",
       "is_for_sale           0\n",
       "posting_id            0\n",
       "dtype: int64"
      ]
     },
     "execution_count": 6,
     "metadata": {},
     "output_type": "execute_result"
    }
   ],
   "source": [
    "df.isna().sum()"
   ]
  },
  {
   "cell_type": "code",
   "execution_count": 7,
   "id": "4fca295e",
   "metadata": {},
   "outputs": [
    {
     "data": {
      "text/plain": [
       "true    238\n",
       "Name: remote_support, dtype: int64"
      ]
     },
     "execution_count": 7,
     "metadata": {},
     "output_type": "execute_result"
    }
   ],
   "source": [
    "df['remote_support'].value_counts()"
   ]
  },
  {
   "cell_type": "markdown",
   "id": "58e9c242",
   "metadata": {},
   "source": [
    "<span style=\"color:blue\">This shows that for the column 'remote_support' there are 238 entries which are True, so rest 738 entries are not populated with 'False' and might appear as 'Null' in the dataset, let's check it</span>"
   ]
  },
  {
   "cell_type": "code",
   "execution_count": 8,
   "id": "7a3c8863",
   "metadata": {},
   "outputs": [
    {
     "data": {
      "text/plain": [
       "array(['true'], dtype=object)"
      ]
     },
     "execution_count": 8,
     "metadata": {},
     "output_type": "execute_result"
    }
   ],
   "source": [
    "#Checking if all the entries except True are null only\n",
    "df['remote_support'].dropna().unique()"
   ]
  },
  {
   "cell_type": "markdown",
   "id": "da9555f8",
   "metadata": {},
   "source": [
    "<span style=\"color:blue\">Perfect! Let's fill those entries with 'False' for our simplicity</span>"
   ]
  },
  {
   "cell_type": "code",
   "execution_count": 9,
   "id": "24c84da1",
   "metadata": {},
   "outputs": [
    {
     "data": {
      "text/plain": [
       "False    738\n",
       "true     238\n",
       "Name: remote_support, dtype: int64"
      ]
     },
     "execution_count": 9,
     "metadata": {},
     "output_type": "execute_result"
    }
   ],
   "source": [
    "df['remote_support'].fillna(False, inplace=True)\n",
    "df['remote_support'].value_counts()"
   ]
  },
  {
   "cell_type": "markdown",
   "id": "65a61e21",
   "metadata": {},
   "source": [
    "<span style=\"color:blue\">Alright! Now we're done dealing with missing values</span>"
   ]
  },
  {
   "cell_type": "code",
   "execution_count": 10,
   "id": "2649f14d",
   "metadata": {},
   "outputs": [
    {
     "data": {
      "text/plain": [
       "timestamp           0\n",
       "title               0\n",
       "price               0\n",
       "market              0\n",
       "surface             0\n",
       "location            0\n",
       "remote_support      0\n",
       "advertiser_type     0\n",
       "description         0\n",
       "no_of_rooms         0\n",
       "form_of_property    0\n",
       "url                 0\n",
       "is_for_sale         0\n",
       "posting_id          0\n",
       "dtype: int64"
      ]
     },
     "execution_count": 10,
     "metadata": {},
     "output_type": "execute_result"
    }
   ],
   "source": [
    "df.isna().sum()"
   ]
  },
  {
   "cell_type": "markdown",
   "id": "e4514d9b",
   "metadata": {},
   "source": [
    "<span style=\"color:blue\">Let's inspect our df</span>"
   ]
  },
  {
   "cell_type": "code",
   "execution_count": 11,
   "id": "d91b504f",
   "metadata": {},
   "outputs": [
    {
     "data": {
      "text/html": [
       "<div>\n",
       "<style scoped>\n",
       "    .dataframe tbody tr th:only-of-type {\n",
       "        vertical-align: middle;\n",
       "    }\n",
       "\n",
       "    .dataframe tbody tr th {\n",
       "        vertical-align: top;\n",
       "    }\n",
       "\n",
       "    .dataframe thead th {\n",
       "        text-align: right;\n",
       "    }\n",
       "</style>\n",
       "<table border=\"1\" class=\"dataframe\">\n",
       "  <thead>\n",
       "    <tr style=\"text-align: right;\">\n",
       "      <th></th>\n",
       "      <th>timestamp</th>\n",
       "      <th>title</th>\n",
       "      <th>price</th>\n",
       "      <th>market</th>\n",
       "      <th>surface</th>\n",
       "      <th>location</th>\n",
       "      <th>remote_support</th>\n",
       "      <th>advertiser_type</th>\n",
       "      <th>description</th>\n",
       "      <th>no_of_rooms</th>\n",
       "      <th>form_of_property</th>\n",
       "      <th>url</th>\n",
       "      <th>is_for_sale</th>\n",
       "      <th>posting_id</th>\n",
       "    </tr>\n",
       "  </thead>\n",
       "  <tbody>\n",
       "    <tr>\n",
       "      <th>0</th>\n",
       "      <td>2024-02-20</td>\n",
       "      <td>Kameralny zakątek blisko wszędzie 2 pokoje 55 ...</td>\n",
       "      <td>660000.0</td>\n",
       "      <td>market,secondary</td>\n",
       "      <td>55</td>\n",
       "      <td>Mysiadło, Lesznowola, piaseczyński, mazowieckie</td>\n",
       "      <td>False</td>\n",
       "      <td>agency</td>\n",
       "      <td>Jeśli chcesz mieszkać w zielonej okolicy lecz ...</td>\n",
       "      <td>2</td>\n",
       "      <td>pełna własność</td>\n",
       "      <td>https://otodom.pl/pl/oferta/kameralny-zakatek-...</td>\n",
       "      <td>True</td>\n",
       "      <td>4n5Li</td>\n",
       "    </tr>\n",
       "    <tr>\n",
       "      <th>1</th>\n",
       "      <td>2024-02-20</td>\n",
       "      <td>Wykończone mieszkanie, gotowe do zamieszkania!</td>\n",
       "      <td>395000.0</td>\n",
       "      <td>market,secondary</td>\n",
       "      <td>33.72</td>\n",
       "      <td>ul. Saperów 12, Kazuń Nowy, Czosnów, nowodwors...</td>\n",
       "      <td>False</td>\n",
       "      <td>agency</td>\n",
       "      <td>Z dumą prezentujemy na sprzedaż urokliwe miesz...</td>\n",
       "      <td>2</td>\n",
       "      <td>pełna własność</td>\n",
       "      <td>https://otodom.pl/pl/oferta/wykonczone-mieszka...</td>\n",
       "      <td>True</td>\n",
       "      <td>4p7BD</td>\n",
       "    </tr>\n",
       "    <tr>\n",
       "      <th>2</th>\n",
       "      <td>2024-02-20</td>\n",
       "      <td>Mieszkanie 4-pokojowe,blisko jeziora na I pięt...</td>\n",
       "      <td>330000.0</td>\n",
       "      <td>market,secondary</td>\n",
       "      <td>56.51</td>\n",
       "      <td>ul. Reinholda Barcza, Szczytno, szczycieński, ...</td>\n",
       "      <td>False</td>\n",
       "      <td>agency</td>\n",
       "      <td>Jeśli szukają Państwo idealnej nieruchomości, ...</td>\n",
       "      <td>4</td>\n",
       "      <td>pełna własność</td>\n",
       "      <td>https://otodom.pl/pl/oferta/mieszkanie-4-pokoj...</td>\n",
       "      <td>True</td>\n",
       "      <td>4paZL</td>\n",
       "    </tr>\n",
       "    <tr>\n",
       "      <th>3</th>\n",
       "      <td>2024-02-20</td>\n",
       "      <td>4 pokoje, 81 m2, w super lokalizacji</td>\n",
       "      <td>688000.0</td>\n",
       "      <td>market,secondary</td>\n",
       "      <td>81</td>\n",
       "      <td>ul. Niepodległości, Gorzów Wielkopolski, lubuskie</td>\n",
       "      <td>False</td>\n",
       "      <td>private</td>\n",
       "      <td>Sprzedaż bez pośredników, bez prowizjiSprzedam...</td>\n",
       "      <td>4</td>\n",
       "      <td>pełna własność</td>\n",
       "      <td>https://otodom.pl/pl/oferta/4-pokoje-81-m2-w-s...</td>\n",
       "      <td>True</td>\n",
       "      <td>4oQHS</td>\n",
       "    </tr>\n",
       "    <tr>\n",
       "      <th>4</th>\n",
       "      <td>2024-02-20</td>\n",
       "      <td>Sprzedam Mieszkanie ul. Kwiatowa-Lubin</td>\n",
       "      <td>390000.0</td>\n",
       "      <td>market,primary</td>\n",
       "      <td>40.18</td>\n",
       "      <td>ul. Kwiatowa, Lubin, lubiński, dolnośląskie</td>\n",
       "      <td>False</td>\n",
       "      <td>private</td>\n",
       "      <td>Oferta od właściciela- bez Pośredników.\\r\\n\\r\\...</td>\n",
       "      <td>2</td>\n",
       "      <td>pełna własność</td>\n",
       "      <td>https://otodom.pl/pl/oferta/sprzedam-mieszkani...</td>\n",
       "      <td>True</td>\n",
       "      <td>4oYh5</td>\n",
       "    </tr>\n",
       "    <tr>\n",
       "      <th>...</th>\n",
       "      <td>...</td>\n",
       "      <td>...</td>\n",
       "      <td>...</td>\n",
       "      <td>...</td>\n",
       "      <td>...</td>\n",
       "      <td>...</td>\n",
       "      <td>...</td>\n",
       "      <td>...</td>\n",
       "      <td>...</td>\n",
       "      <td>...</td>\n",
       "      <td>...</td>\n",
       "      <td>...</td>\n",
       "      <td>...</td>\n",
       "      <td>...</td>\n",
       "    </tr>\n",
       "    <tr>\n",
       "      <th>995</th>\n",
       "      <td>2023-09-04</td>\n",
       "      <td>Mieszkanie, 61,03 m², Lublin</td>\n",
       "      <td>457725.0</td>\n",
       "      <td>market,primary</td>\n",
       "      <td>61.03</td>\n",
       "      <td>Dziesiąta, Lublin, lubelskie</td>\n",
       "      <td>False</td>\n",
       "      <td>agency</td>\n",
       "      <td>Lublin, Dziesiąta, M-1.7 61.03m2. Oferta Devel...</td>\n",
       "      <td>4</td>\n",
       "      <td>pełna własność</td>\n",
       "      <td>https://otodom.pl/pl/oferta/mieszkanie-61-03-m...</td>\n",
       "      <td>True</td>\n",
       "      <td>4l89u</td>\n",
       "    </tr>\n",
       "    <tr>\n",
       "      <th>996</th>\n",
       "      <td>2023-09-04</td>\n",
       "      <td>Promocja Ogród Dwa miejsca postojowe Pompa ciepła</td>\n",
       "      <td>474000.0</td>\n",
       "      <td>market,primary</td>\n",
       "      <td>93.49</td>\n",
       "      <td>ul. Marii Skłodowskiej-Curie, Wołów, Wołów, wo...</td>\n",
       "      <td>true</td>\n",
       "      <td>developer</td>\n",
       "      <td>Jako doświadczony Deweloper Mieszkajlogicznie ...</td>\n",
       "      <td>4</td>\n",
       "      <td>pełna własność</td>\n",
       "      <td>https://otodom.pl/pl/oferta/promocja-ogrod-dwa...</td>\n",
       "      <td>True</td>\n",
       "      <td>4kYqn</td>\n",
       "    </tr>\n",
       "    <tr>\n",
       "      <th>997</th>\n",
       "      <td>2023-09-04</td>\n",
       "      <td>Promocja! ostanie 4 pokoje</td>\n",
       "      <td>619987.0</td>\n",
       "      <td>market,primary</td>\n",
       "      <td>74.25</td>\n",
       "      <td>Karłowice, Psie Pole, Wrocław, dolnośląskie</td>\n",
       "      <td>False</td>\n",
       "      <td>agency</td>\n",
       "      <td>Opiekun oferty: Patrycja Kaczmarektel. 602 101...</td>\n",
       "      <td>4</td>\n",
       "      <td>pełna własność</td>\n",
       "      <td>https://otodom.pl/pl/oferta/promocja-ostanie-4...</td>\n",
       "      <td>True</td>\n",
       "      <td>4kYYz</td>\n",
       "    </tr>\n",
       "    <tr>\n",
       "      <th>998</th>\n",
       "      <td>2023-09-04</td>\n",
       "      <td>Przestronne 2 pokoje z balkonem</td>\n",
       "      <td>519000.0</td>\n",
       "      <td>market,secondary</td>\n",
       "      <td>52.14</td>\n",
       "      <td>ul. Limby, Warszewo, Północ, Szczecin, zachodn...</td>\n",
       "      <td>False</td>\n",
       "      <td>agency</td>\n",
       "      <td>Przestronne mieszkanie z balkonem na Warszewie...</td>\n",
       "      <td>2</td>\n",
       "      <td>pełna własność</td>\n",
       "      <td>https://otodom.pl/pl/oferta/przestronne-2-poko...</td>\n",
       "      <td>True</td>\n",
       "      <td>4lxap</td>\n",
       "    </tr>\n",
       "    <tr>\n",
       "      <th>999</th>\n",
       "      <td>2023-09-04</td>\n",
       "      <td>Małe trzy pokoje - Tarasy Sobieskiego B2</td>\n",
       "      <td>320000.0</td>\n",
       "      <td>market,primary</td>\n",
       "      <td>40.3</td>\n",
       "      <td>ul. Jana Sobieskiego, Słupsk, pomorskie</td>\n",
       "      <td>False</td>\n",
       "      <td>agency</td>\n",
       "      <td>Tarasy Sobieskiego to nasz kolejny projekt mie...</td>\n",
       "      <td>3</td>\n",
       "      <td>pełna własność</td>\n",
       "      <td>https://otodom.pl/pl/oferta/male-trzy-pokoje-t...</td>\n",
       "      <td>True</td>\n",
       "      <td>4b3l0</td>\n",
       "    </tr>\n",
       "  </tbody>\n",
       "</table>\n",
       "<p>976 rows × 14 columns</p>\n",
       "</div>"
      ],
      "text/plain": [
       "      timestamp                                              title     price  \\\n",
       "0    2024-02-20  Kameralny zakątek blisko wszędzie 2 pokoje 55 ...  660000.0   \n",
       "1    2024-02-20     Wykończone mieszkanie, gotowe do zamieszkania!  395000.0   \n",
       "2    2024-02-20  Mieszkanie 4-pokojowe,blisko jeziora na I pięt...  330000.0   \n",
       "3    2024-02-20               4 pokoje, 81 m2, w super lokalizacji  688000.0   \n",
       "4    2024-02-20             Sprzedam Mieszkanie ul. Kwiatowa-Lubin  390000.0   \n",
       "..          ...                                                ...       ...   \n",
       "995  2023-09-04                       Mieszkanie, 61,03 m², Lublin  457725.0   \n",
       "996  2023-09-04  Promocja Ogród Dwa miejsca postojowe Pompa ciepła  474000.0   \n",
       "997  2023-09-04                         Promocja! ostanie 4 pokoje  619987.0   \n",
       "998  2023-09-04                    Przestronne 2 pokoje z balkonem  519000.0   \n",
       "999  2023-09-04           Małe trzy pokoje - Tarasy Sobieskiego B2  320000.0   \n",
       "\n",
       "               market surface  \\\n",
       "0    market,secondary      55   \n",
       "1    market,secondary   33.72   \n",
       "2    market,secondary   56.51   \n",
       "3    market,secondary      81   \n",
       "4      market,primary   40.18   \n",
       "..                ...     ...   \n",
       "995    market,primary   61.03   \n",
       "996    market,primary   93.49   \n",
       "997    market,primary   74.25   \n",
       "998  market,secondary   52.14   \n",
       "999    market,primary    40.3   \n",
       "\n",
       "                                              location remote_support  \\\n",
       "0      Mysiadło, Lesznowola, piaseczyński, mazowieckie          False   \n",
       "1    ul. Saperów 12, Kazuń Nowy, Czosnów, nowodwors...          False   \n",
       "2    ul. Reinholda Barcza, Szczytno, szczycieński, ...          False   \n",
       "3    ul. Niepodległości, Gorzów Wielkopolski, lubuskie          False   \n",
       "4          ul. Kwiatowa, Lubin, lubiński, dolnośląskie          False   \n",
       "..                                                 ...            ...   \n",
       "995                       Dziesiąta, Lublin, lubelskie          False   \n",
       "996  ul. Marii Skłodowskiej-Curie, Wołów, Wołów, wo...           true   \n",
       "997        Karłowice, Psie Pole, Wrocław, dolnośląskie          False   \n",
       "998  ul. Limby, Warszewo, Północ, Szczecin, zachodn...          False   \n",
       "999            ul. Jana Sobieskiego, Słupsk, pomorskie          False   \n",
       "\n",
       "    advertiser_type                                        description  \\\n",
       "0            agency  Jeśli chcesz mieszkać w zielonej okolicy lecz ...   \n",
       "1            agency  Z dumą prezentujemy na sprzedaż urokliwe miesz...   \n",
       "2            agency  Jeśli szukają Państwo idealnej nieruchomości, ...   \n",
       "3           private  Sprzedaż bez pośredników, bez prowizjiSprzedam...   \n",
       "4           private  Oferta od właściciela- bez Pośredników.\\r\\n\\r\\...   \n",
       "..              ...                                                ...   \n",
       "995          agency  Lublin, Dziesiąta, M-1.7 61.03m2. Oferta Devel...   \n",
       "996       developer  Jako doświadczony Deweloper Mieszkajlogicznie ...   \n",
       "997          agency  Opiekun oferty: Patrycja Kaczmarektel. 602 101...   \n",
       "998          agency  Przestronne mieszkanie z balkonem na Warszewie...   \n",
       "999          agency  Tarasy Sobieskiego to nasz kolejny projekt mie...   \n",
       "\n",
       "     no_of_rooms form_of_property  \\\n",
       "0              2   pełna własność   \n",
       "1              2   pełna własność   \n",
       "2              4   pełna własność   \n",
       "3              4   pełna własność   \n",
       "4              2   pełna własność   \n",
       "..           ...              ...   \n",
       "995            4   pełna własność   \n",
       "996            4   pełna własność   \n",
       "997            4   pełna własność   \n",
       "998            2   pełna własność   \n",
       "999            3   pełna własność   \n",
       "\n",
       "                                                   url  is_for_sale posting_id  \n",
       "0    https://otodom.pl/pl/oferta/kameralny-zakatek-...         True      4n5Li  \n",
       "1    https://otodom.pl/pl/oferta/wykonczone-mieszka...         True      4p7BD  \n",
       "2    https://otodom.pl/pl/oferta/mieszkanie-4-pokoj...         True      4paZL  \n",
       "3    https://otodom.pl/pl/oferta/4-pokoje-81-m2-w-s...         True      4oQHS  \n",
       "4    https://otodom.pl/pl/oferta/sprzedam-mieszkani...         True      4oYh5  \n",
       "..                                                 ...          ...        ...  \n",
       "995  https://otodom.pl/pl/oferta/mieszkanie-61-03-m...         True      4l89u  \n",
       "996  https://otodom.pl/pl/oferta/promocja-ogrod-dwa...         True      4kYqn  \n",
       "997  https://otodom.pl/pl/oferta/promocja-ostanie-4...         True      4kYYz  \n",
       "998  https://otodom.pl/pl/oferta/przestronne-2-poko...         True      4lxap  \n",
       "999  https://otodom.pl/pl/oferta/male-trzy-pokoje-t...         True      4b3l0  \n",
       "\n",
       "[976 rows x 14 columns]"
      ]
     },
     "execution_count": 11,
     "metadata": {},
     "output_type": "execute_result"
    }
   ],
   "source": [
    "df"
   ]
  },
  {
   "cell_type": "markdown",
   "id": "456f5d15",
   "metadata": {},
   "source": [
    "<span style=\"color:blue\">We can observe that the column 'market' contains values like \"market, secondary\" and \"market, primary\" which could be reduced down to \"secondary\" or \"primary\"</span>"
   ]
  },
  {
   "cell_type": "code",
   "execution_count": 12,
   "id": "cdbb654e",
   "metadata": {},
   "outputs": [],
   "source": [
    "df['market'] = df['market'].str.split(',').str.get(1)  # This splits the string at the comma and takes the second element."
   ]
  },
  {
   "cell_type": "code",
   "execution_count": 14,
   "id": "b982b84c",
   "metadata": {},
   "outputs": [
    {
     "data": {
      "text/plain": [
       "array(['secondary', 'primary'], dtype=object)"
      ]
     },
     "execution_count": 14,
     "metadata": {},
     "output_type": "execute_result"
    }
   ],
   "source": [
    "# Check the unique values in the new 'market_type' column to ensure it contains only 'secondary' and 'primary'\n",
    "df['market'].unique()"
   ]
  },
  {
   "cell_type": "markdown",
   "id": "aeda7829",
   "metadata": {},
   "source": [
    "<span style=\"color:blue\">Let's check out the data types of all the columns whether they're correctly mapped or not</span> "
   ]
  },
  {
   "cell_type": "code",
   "execution_count": 15,
   "id": "a619e1fa",
   "metadata": {},
   "outputs": [
    {
     "data": {
      "text/plain": [
       "timestamp            object\n",
       "title                object\n",
       "price               float64\n",
       "market               object\n",
       "surface              object\n",
       "location             object\n",
       "remote_support       object\n",
       "advertiser_type      object\n",
       "description          object\n",
       "no_of_rooms           int64\n",
       "form_of_property     object\n",
       "url                  object\n",
       "is_for_sale            bool\n",
       "posting_id           object\n",
       "dtype: object"
      ]
     },
     "execution_count": 15,
     "metadata": {},
     "output_type": "execute_result"
    }
   ],
   "source": [
    "df.dtypes"
   ]
  },
  {
   "cell_type": "markdown",
   "id": "df7f0e65",
   "metadata": {},
   "source": [
    "<span style=\"color:blue\">It can be seen that timestamp is object rather than datetime, Similary\n",
    "                                             remote_support is object rather than boolean,\n",
    "                                             surface is object rather than float</span>"
   ]
  },
  {
   "cell_type": "code",
   "execution_count": 16,
   "id": "deba3126",
   "metadata": {},
   "outputs": [
    {
     "data": {
      "text/plain": [
       "(dtype('<M8[ns]'), dtype('float64'), dtype('bool'))"
      ]
     },
     "execution_count": 16,
     "metadata": {},
     "output_type": "execute_result"
    }
   ],
   "source": [
    "#Converting timestamp from object to datetime\n",
    "#Surface is object and need to use astype(int)\n",
    "#remote_support is int64 and need to use astype(bool)\n",
    "df['timestamp']=pd.to_datetime(df['timestamp'])\n",
    "df['surface'] = df['surface'].astype(float)\n",
    "df['remote_support'] = df['remote_support'].astype(bool)\n",
    "\n",
    "type1 = df['timestamp'].dtype\n",
    "type2 = df['surface'].dtype\n",
    "type3 = df['remote_support'].dtype\n",
    "\n",
    "type1, type2, type3"
   ]
  },
  {
   "cell_type": "markdown",
   "id": "8b412fc9",
   "metadata": {},
   "source": [
    "<span style=\"color:blue\">Let's check the datatype now</span>"
   ]
  },
  {
   "cell_type": "code",
   "execution_count": 17,
   "id": "1d9caeb8",
   "metadata": {},
   "outputs": [
    {
     "data": {
      "text/plain": [
       "timestamp           datetime64[ns]\n",
       "title                       object\n",
       "price                      float64\n",
       "market                      object\n",
       "surface                    float64\n",
       "location                    object\n",
       "remote_support                bool\n",
       "advertiser_type             object\n",
       "description                 object\n",
       "no_of_rooms                  int64\n",
       "form_of_property            object\n",
       "url                         object\n",
       "is_for_sale                   bool\n",
       "posting_id                  object\n",
       "dtype: object"
      ]
     },
     "execution_count": 17,
     "metadata": {},
     "output_type": "execute_result"
    }
   ],
   "source": [
    "df.dtypes"
   ]
  },
  {
   "cell_type": "markdown",
   "id": "b6f62bcc",
   "metadata": {},
   "source": [
    "<span style=\"color:blue\"> Let's see how 'price' is related to other columns to get an idea of which factor is crucial for determining which features influence prices in Poland.</span> \n",
    "\n",
    "<span style=\"color:blue\"> The columns that can be correlated with Price are\n",
    "                          1) Surface\n",
    "                          2) No of Rooms\n",
    "</span>"
   ]
  },
  {
   "cell_type": "markdown",
   "id": "2ffacf10",
   "metadata": {},
   "source": [
    "<span style=\"color:blue\">Let's encode boolean columns 'remote_support' into numerical value to see the correlation with Price.</span>\n",
    "\n",
    "<span style=\"color:blue\"> Note : The columns 'is_for_sale' contains only True value so it won't reflect in correlation with Price.</span>"
   ]
  },
  {
   "cell_type": "code",
   "execution_count": 18,
   "id": "0962d5d8",
   "metadata": {},
   "outputs": [
    {
     "name": "stderr",
     "output_type": "stream",
     "text": [
      "C:\\Users\\ASUS\\anaconda3\\lib\\site-packages\\sklearn\\preprocessing\\_encoders.py:972: FutureWarning: `sparse` was renamed to `sparse_output` in version 1.2 and will be removed in 1.4. `sparse_output` is ignored unless you leave `sparse` to its default value.\n",
      "  warnings.warn(\n"
     ]
    },
    {
     "data": {
      "text/html": [
       "<div>\n",
       "<style scoped>\n",
       "    .dataframe tbody tr th:only-of-type {\n",
       "        vertical-align: middle;\n",
       "    }\n",
       "\n",
       "    .dataframe tbody tr th {\n",
       "        vertical-align: top;\n",
       "    }\n",
       "\n",
       "    .dataframe thead th {\n",
       "        text-align: right;\n",
       "    }\n",
       "</style>\n",
       "<table border=\"1\" class=\"dataframe\">\n",
       "  <thead>\n",
       "    <tr style=\"text-align: right;\">\n",
       "      <th></th>\n",
       "      <th>remote_support_False</th>\n",
       "      <th>remote_support_True</th>\n",
       "    </tr>\n",
       "  </thead>\n",
       "  <tbody>\n",
       "    <tr>\n",
       "      <th>0</th>\n",
       "      <td>1.0</td>\n",
       "      <td>0.0</td>\n",
       "    </tr>\n",
       "    <tr>\n",
       "      <th>1</th>\n",
       "      <td>1.0</td>\n",
       "      <td>0.0</td>\n",
       "    </tr>\n",
       "    <tr>\n",
       "      <th>2</th>\n",
       "      <td>1.0</td>\n",
       "      <td>0.0</td>\n",
       "    </tr>\n",
       "    <tr>\n",
       "      <th>3</th>\n",
       "      <td>1.0</td>\n",
       "      <td>0.0</td>\n",
       "    </tr>\n",
       "    <tr>\n",
       "      <th>4</th>\n",
       "      <td>1.0</td>\n",
       "      <td>0.0</td>\n",
       "    </tr>\n",
       "    <tr>\n",
       "      <th>...</th>\n",
       "      <td>...</td>\n",
       "      <td>...</td>\n",
       "    </tr>\n",
       "    <tr>\n",
       "      <th>971</th>\n",
       "      <td>1.0</td>\n",
       "      <td>0.0</td>\n",
       "    </tr>\n",
       "    <tr>\n",
       "      <th>972</th>\n",
       "      <td>0.0</td>\n",
       "      <td>1.0</td>\n",
       "    </tr>\n",
       "    <tr>\n",
       "      <th>973</th>\n",
       "      <td>1.0</td>\n",
       "      <td>0.0</td>\n",
       "    </tr>\n",
       "    <tr>\n",
       "      <th>974</th>\n",
       "      <td>1.0</td>\n",
       "      <td>0.0</td>\n",
       "    </tr>\n",
       "    <tr>\n",
       "      <th>975</th>\n",
       "      <td>1.0</td>\n",
       "      <td>0.0</td>\n",
       "    </tr>\n",
       "  </tbody>\n",
       "</table>\n",
       "<p>976 rows × 2 columns</p>\n",
       "</div>"
      ],
      "text/plain": [
       "     remote_support_False  remote_support_True\n",
       "0                     1.0                  0.0\n",
       "1                     1.0                  0.0\n",
       "2                     1.0                  0.0\n",
       "3                     1.0                  0.0\n",
       "4                     1.0                  0.0\n",
       "..                    ...                  ...\n",
       "971                   1.0                  0.0\n",
       "972                   0.0                  1.0\n",
       "973                   1.0                  0.0\n",
       "974                   1.0                  0.0\n",
       "975                   1.0                  0.0\n",
       "\n",
       "[976 rows x 2 columns]"
      ]
     },
     "execution_count": 18,
     "metadata": {},
     "output_type": "execute_result"
    }
   ],
   "source": [
    "#Checking correlation for price with other variables so converting boolean to 1/0\n",
    "from sklearn.preprocessing import OneHotEncoder\n",
    "\n",
    "encoder = OneHotEncoder(sparse=False)\n",
    "encoded = encoder.fit_transform(df[['remote_support']])\n",
    "\n",
    "df_encoded = pd.DataFrame(encoded, columns=encoder.get_feature_names_out(['remote_support']))\n",
    "df_encoded"
   ]
  },
  {
   "cell_type": "markdown",
   "id": "6f0a6c96",
   "metadata": {},
   "source": [
    "<span style=\"color:blue\">Perfect! Let's group the column with data types float, int and bool</span> "
   ]
  },
  {
   "cell_type": "code",
   "execution_count": 20,
   "id": "81c4197c",
   "metadata": {},
   "outputs": [
    {
     "data": {
      "text/html": [
       "<div>\n",
       "<style scoped>\n",
       "    .dataframe tbody tr th:only-of-type {\n",
       "        vertical-align: middle;\n",
       "    }\n",
       "\n",
       "    .dataframe tbody tr th {\n",
       "        vertical-align: top;\n",
       "    }\n",
       "\n",
       "    .dataframe thead th {\n",
       "        text-align: right;\n",
       "    }\n",
       "</style>\n",
       "<table border=\"1\" class=\"dataframe\">\n",
       "  <thead>\n",
       "    <tr style=\"text-align: right;\">\n",
       "      <th></th>\n",
       "      <th>price</th>\n",
       "      <th>surface</th>\n",
       "      <th>remote_support</th>\n",
       "      <th>no_of_rooms</th>\n",
       "      <th>is_for_sale</th>\n",
       "    </tr>\n",
       "  </thead>\n",
       "  <tbody>\n",
       "    <tr>\n",
       "      <th>0</th>\n",
       "      <td>660000.0</td>\n",
       "      <td>55.00</td>\n",
       "      <td>False</td>\n",
       "      <td>2</td>\n",
       "      <td>True</td>\n",
       "    </tr>\n",
       "    <tr>\n",
       "      <th>1</th>\n",
       "      <td>395000.0</td>\n",
       "      <td>33.72</td>\n",
       "      <td>False</td>\n",
       "      <td>2</td>\n",
       "      <td>True</td>\n",
       "    </tr>\n",
       "    <tr>\n",
       "      <th>2</th>\n",
       "      <td>330000.0</td>\n",
       "      <td>56.51</td>\n",
       "      <td>False</td>\n",
       "      <td>4</td>\n",
       "      <td>True</td>\n",
       "    </tr>\n",
       "    <tr>\n",
       "      <th>3</th>\n",
       "      <td>688000.0</td>\n",
       "      <td>81.00</td>\n",
       "      <td>False</td>\n",
       "      <td>4</td>\n",
       "      <td>True</td>\n",
       "    </tr>\n",
       "    <tr>\n",
       "      <th>4</th>\n",
       "      <td>390000.0</td>\n",
       "      <td>40.18</td>\n",
       "      <td>False</td>\n",
       "      <td>2</td>\n",
       "      <td>True</td>\n",
       "    </tr>\n",
       "  </tbody>\n",
       "</table>\n",
       "</div>"
      ],
      "text/plain": [
       "      price  surface  remote_support  no_of_rooms  is_for_sale\n",
       "0  660000.0    55.00           False            2         True\n",
       "1  395000.0    33.72           False            2         True\n",
       "2  330000.0    56.51           False            4         True\n",
       "3  688000.0    81.00           False            4         True\n",
       "4  390000.0    40.18           False            2         True"
      ]
     },
     "execution_count": 20,
     "metadata": {},
     "output_type": "execute_result"
    }
   ],
   "source": [
    "df_num = df.select_dtypes(include = ['float64', 'int64', 'bool'])\n",
    "df_num.head()"
   ]
  },
  {
   "cell_type": "code",
   "execution_count": 22,
   "id": "d8f7dcd5",
   "metadata": {},
   "outputs": [
    {
     "data": {
      "text/plain": [
       "price             1.000000\n",
       "surface           0.348266\n",
       "remote_support    0.063900\n",
       "no_of_rooms       0.248908\n",
       "is_for_sale            NaN\n",
       "Name: price, dtype: float64"
      ]
     },
     "execution_count": 22,
     "metadata": {},
     "output_type": "execute_result"
    }
   ],
   "source": [
    "df_num_corr = df_num.corr()['price']# -1 because the latest row is SalePrice\n",
    "df_num_corr"
   ]
  },
  {
   "cell_type": "markdown",
   "id": "ae9e7c52",
   "metadata": {},
   "source": [
    "<span style=\"color:blue\">Note that the column 'is_for_sale' returns NaN because it has only kind of value i.e. True so it was not encoded using OneHotEncoder</span> "
   ]
  },
  {
   "cell_type": "code",
   "execution_count": 23,
   "id": "6f30c31c",
   "metadata": {},
   "outputs": [
    {
     "data": {
      "text/plain": [
       "<AxesSubplot:>"
      ]
     },
     "execution_count": 23,
     "metadata": {},
     "output_type": "execute_result"
    },
    {
     "data": {
      "image/png": "[encoded data removed]",
      "text/plain": [
       "<Figure size 864x720 with 2 Axes>"
      ]
     },
     "metadata": {
      "needs_background": "light"
     },
     "output_type": "display_data"
    }
   ],
   "source": [
    "import matplotlib.pyplot as plt\n",
    "import seaborn as sns\n",
    "corr = df_num.drop('price', axis=1).corr() \n",
    "plt.figure(figsize=(12, 10))\n",
    "\n",
    "sns.heatmap(corr, \n",
    "            cmap='viridis', vmax=1.0, vmin=-1.0, linewidths=0.1,\n",
    "            annot=True, annot_kws={\"size\": 8}, square=True)"
   ]
  },
  {
   "cell_type": "markdown",
   "id": "2a177178",
   "metadata": {},
   "source": [
    "<span style=\"color:blue\">Let's extract year, month, weekday from timestamp which could be helpful in further analysis</span> "
   ]
  },
  {
   "cell_type": "code",
   "execution_count": 24,
   "id": "c92ce31d",
   "metadata": {},
   "outputs": [
    {
     "data": {
      "text/html": [
       "<div>\n",
       "<style scoped>\n",
       "    .dataframe tbody tr th:only-of-type {\n",
       "        vertical-align: middle;\n",
       "    }\n",
       "\n",
       "    .dataframe tbody tr th {\n",
       "        vertical-align: top;\n",
       "    }\n",
       "\n",
       "    .dataframe thead th {\n",
       "        text-align: right;\n",
       "    }\n",
       "</style>\n",
       "<table border=\"1\" class=\"dataframe\">\n",
       "  <thead>\n",
       "    <tr style=\"text-align: right;\">\n",
       "      <th></th>\n",
       "      <th>year</th>\n",
       "      <th>month</th>\n",
       "      <th>weekday</th>\n",
       "    </tr>\n",
       "  </thead>\n",
       "  <tbody>\n",
       "    <tr>\n",
       "      <th>995</th>\n",
       "      <td>2023</td>\n",
       "      <td>9</td>\n",
       "      <td>0</td>\n",
       "    </tr>\n",
       "    <tr>\n",
       "      <th>996</th>\n",
       "      <td>2023</td>\n",
       "      <td>9</td>\n",
       "      <td>0</td>\n",
       "    </tr>\n",
       "    <tr>\n",
       "      <th>997</th>\n",
       "      <td>2023</td>\n",
       "      <td>9</td>\n",
       "      <td>0</td>\n",
       "    </tr>\n",
       "    <tr>\n",
       "      <th>998</th>\n",
       "      <td>2023</td>\n",
       "      <td>9</td>\n",
       "      <td>0</td>\n",
       "    </tr>\n",
       "    <tr>\n",
       "      <th>999</th>\n",
       "      <td>2023</td>\n",
       "      <td>9</td>\n",
       "      <td>0</td>\n",
       "    </tr>\n",
       "  </tbody>\n",
       "</table>\n",
       "</div>"
      ],
      "text/plain": [
       "     year  month  weekday\n",
       "995  2023      9        0\n",
       "996  2023      9        0\n",
       "997  2023      9        0\n",
       "998  2023      9        0\n",
       "999  2023      9        0"
      ]
     },
     "execution_count": 24,
     "metadata": {},
     "output_type": "execute_result"
    }
   ],
   "source": [
    "df['year'] = df['timestamp'].dt.year\n",
    "df['month'] = df['timestamp'].dt.month\n",
    "df['weekday'] = df['timestamp'].dt.weekday #Monday =0 and Sunday = 6\n",
    "\n",
    "df[['year','month','weekday']].tail()"
   ]
  },
  {
   "cell_type": "markdown",
   "id": "77250ed3",
   "metadata": {},
   "source": [
    "<span style=\"color:blue\">Let's inspect the weekday column which has numerical values rather than weekdays</span>"
   ]
  },
  {
   "cell_type": "code",
   "execution_count": 25,
   "id": "eaf8cc56",
   "metadata": {},
   "outputs": [
    {
     "data": {
      "text/plain": [
       "0    460\n",
       "1    453\n",
       "2     62\n",
       "3      1\n",
       "Name: weekday, dtype: int64"
      ]
     },
     "execution_count": 25,
     "metadata": {},
     "output_type": "execute_result"
    }
   ],
   "source": [
    "df['weekday'].value_counts()"
   ]
  },
  {
   "cell_type": "markdown",
   "id": "317ef86d",
   "metadata": {},
   "source": [
    "<span style=\"color:blue\">We can observe that weekday is coded as Monday : 0, Tuesday : 1... We can actually get the actual name of weekday rather than coded values using map() function.</span> "
   ]
  },
  {
   "cell_type": "code",
   "execution_count": 26,
   "id": "0bd39c1c",
   "metadata": {},
   "outputs": [],
   "source": [
    "days = { 0: 'Monday',\n",
    "         1: 'Tuesday',\n",
    "         2: 'Wednesday',\n",
    "         3: 'Thursday' }\n",
    "\n",
    "df['weekday'] = df['weekday'].map(days)"
   ]
  },
  {
   "cell_type": "code",
   "execution_count": 27,
   "id": "fd96fd61",
   "metadata": {},
   "outputs": [
    {
     "data": {
      "text/plain": [
       "0    Tuesday\n",
       "1    Tuesday\n",
       "2    Tuesday\n",
       "3    Tuesday\n",
       "4    Tuesday\n",
       "Name: weekday, dtype: object"
      ]
     },
     "execution_count": 27,
     "metadata": {},
     "output_type": "execute_result"
    }
   ],
   "source": [
    "df['weekday'].head()"
   ]
  },
  {
   "cell_type": "markdown",
   "id": "2aeb0fd5",
   "metadata": {},
   "source": [
    "<span style=\"color:blue\">Let's change the order of the columns as per our needs.</span> "
   ]
  },
  {
   "cell_type": "code",
   "execution_count": 28,
   "id": "6c3dffb0",
   "metadata": {},
   "outputs": [],
   "source": [
    "new_order = ['posting_id', 'timestamp', 'year', 'month', 'weekday', 'price',\n",
    "             'location', 'no_of_rooms', 'is_for_sale', 'title', 'market', 'form_of_property', 'surface', \n",
    "             'remote_support', 'advertiser_type', 'url', 'description'\n",
    "             ]\n",
    "\n",
    "df=df[new_order]"
   ]
  },
  {
   "cell_type": "code",
   "execution_count": 29,
   "id": "8669c7ba",
   "metadata": {},
   "outputs": [
    {
     "data": {
      "text/html": [
       "<div>\n",
       "<style scoped>\n",
       "    .dataframe tbody tr th:only-of-type {\n",
       "        vertical-align: middle;\n",
       "    }\n",
       "\n",
       "    .dataframe tbody tr th {\n",
       "        vertical-align: top;\n",
       "    }\n",
       "\n",
       "    .dataframe thead th {\n",
       "        text-align: right;\n",
       "    }\n",
       "</style>\n",
       "<table border=\"1\" class=\"dataframe\">\n",
       "  <thead>\n",
       "    <tr style=\"text-align: right;\">\n",
       "      <th></th>\n",
       "      <th>posting_id</th>\n",
       "      <th>timestamp</th>\n",
       "      <th>year</th>\n",
       "      <th>month</th>\n",
       "      <th>weekday</th>\n",
       "      <th>price</th>\n",
       "      <th>location</th>\n",
       "      <th>no_of_rooms</th>\n",
       "      <th>is_for_sale</th>\n",
       "      <th>title</th>\n",
       "      <th>market</th>\n",
       "      <th>form_of_property</th>\n",
       "      <th>surface</th>\n",
       "      <th>remote_support</th>\n",
       "      <th>advertiser_type</th>\n",
       "      <th>url</th>\n",
       "      <th>description</th>\n",
       "    </tr>\n",
       "  </thead>\n",
       "  <tbody>\n",
       "    <tr>\n",
       "      <th>0</th>\n",
       "      <td>4n5Li</td>\n",
       "      <td>2024-02-20</td>\n",
       "      <td>2024</td>\n",
       "      <td>2</td>\n",
       "      <td>Tuesday</td>\n",
       "      <td>660000.0</td>\n",
       "      <td>Mysiadło, Lesznowola, piaseczyński, mazowieckie</td>\n",
       "      <td>2</td>\n",
       "      <td>True</td>\n",
       "      <td>Kameralny zakątek blisko wszędzie 2 pokoje 55 ...</td>\n",
       "      <td>secondary</td>\n",
       "      <td>pełna własność</td>\n",
       "      <td>55.00</td>\n",
       "      <td>False</td>\n",
       "      <td>agency</td>\n",
       "      <td>https://otodom.pl/pl/oferta/kameralny-zakatek-...</td>\n",
       "      <td>Jeśli chcesz mieszkać w zielonej okolicy lecz ...</td>\n",
       "    </tr>\n",
       "    <tr>\n",
       "      <th>1</th>\n",
       "      <td>4p7BD</td>\n",
       "      <td>2024-02-20</td>\n",
       "      <td>2024</td>\n",
       "      <td>2</td>\n",
       "      <td>Tuesday</td>\n",
       "      <td>395000.0</td>\n",
       "      <td>ul. Saperów 12, Kazuń Nowy, Czosnów, nowodwors...</td>\n",
       "      <td>2</td>\n",
       "      <td>True</td>\n",
       "      <td>Wykończone mieszkanie, gotowe do zamieszkania!</td>\n",
       "      <td>secondary</td>\n",
       "      <td>pełna własność</td>\n",
       "      <td>33.72</td>\n",
       "      <td>False</td>\n",
       "      <td>agency</td>\n",
       "      <td>https://otodom.pl/pl/oferta/wykonczone-mieszka...</td>\n",
       "      <td>Z dumą prezentujemy na sprzedaż urokliwe miesz...</td>\n",
       "    </tr>\n",
       "    <tr>\n",
       "      <th>2</th>\n",
       "      <td>4paZL</td>\n",
       "      <td>2024-02-20</td>\n",
       "      <td>2024</td>\n",
       "      <td>2</td>\n",
       "      <td>Tuesday</td>\n",
       "      <td>330000.0</td>\n",
       "      <td>ul. Reinholda Barcza, Szczytno, szczycieński, ...</td>\n",
       "      <td>4</td>\n",
       "      <td>True</td>\n",
       "      <td>Mieszkanie 4-pokojowe,blisko jeziora na I pięt...</td>\n",
       "      <td>secondary</td>\n",
       "      <td>pełna własność</td>\n",
       "      <td>56.51</td>\n",
       "      <td>False</td>\n",
       "      <td>agency</td>\n",
       "      <td>https://otodom.pl/pl/oferta/mieszkanie-4-pokoj...</td>\n",
       "      <td>Jeśli szukają Państwo idealnej nieruchomości, ...</td>\n",
       "    </tr>\n",
       "    <tr>\n",
       "      <th>3</th>\n",
       "      <td>4oQHS</td>\n",
       "      <td>2024-02-20</td>\n",
       "      <td>2024</td>\n",
       "      <td>2</td>\n",
       "      <td>Tuesday</td>\n",
       "      <td>688000.0</td>\n",
       "      <td>ul. Niepodległości, Gorzów Wielkopolski, lubuskie</td>\n",
       "      <td>4</td>\n",
       "      <td>True</td>\n",
       "      <td>4 pokoje, 81 m2, w super lokalizacji</td>\n",
       "      <td>secondary</td>\n",
       "      <td>pełna własność</td>\n",
       "      <td>81.00</td>\n",
       "      <td>False</td>\n",
       "      <td>private</td>\n",
       "      <td>https://otodom.pl/pl/oferta/4-pokoje-81-m2-w-s...</td>\n",
       "      <td>Sprzedaż bez pośredników, bez prowizjiSprzedam...</td>\n",
       "    </tr>\n",
       "    <tr>\n",
       "      <th>4</th>\n",
       "      <td>4oYh5</td>\n",
       "      <td>2024-02-20</td>\n",
       "      <td>2024</td>\n",
       "      <td>2</td>\n",
       "      <td>Tuesday</td>\n",
       "      <td>390000.0</td>\n",
       "      <td>ul. Kwiatowa, Lubin, lubiński, dolnośląskie</td>\n",
       "      <td>2</td>\n",
       "      <td>True</td>\n",
       "      <td>Sprzedam Mieszkanie ul. Kwiatowa-Lubin</td>\n",
       "      <td>primary</td>\n",
       "      <td>pełna własność</td>\n",
       "      <td>40.18</td>\n",
       "      <td>False</td>\n",
       "      <td>private</td>\n",
       "      <td>https://otodom.pl/pl/oferta/sprzedam-mieszkani...</td>\n",
       "      <td>Oferta od właściciela- bez Pośredników.\\r\\n\\r\\...</td>\n",
       "    </tr>\n",
       "  </tbody>\n",
       "</table>\n",
       "</div>"
      ],
      "text/plain": [
       "  posting_id  timestamp  year  month  weekday     price  \\\n",
       "0      4n5Li 2024-02-20  2024      2  Tuesday  660000.0   \n",
       "1      4p7BD 2024-02-20  2024      2  Tuesday  395000.0   \n",
       "2      4paZL 2024-02-20  2024      2  Tuesday  330000.0   \n",
       "3      4oQHS 2024-02-20  2024      2  Tuesday  688000.0   \n",
       "4      4oYh5 2024-02-20  2024      2  Tuesday  390000.0   \n",
       "\n",
       "                                            location  no_of_rooms  \\\n",
       "0    Mysiadło, Lesznowola, piaseczyński, mazowieckie            2   \n",
       "1  ul. Saperów 12, Kazuń Nowy, Czosnów, nowodwors...            2   \n",
       "2  ul. Reinholda Barcza, Szczytno, szczycieński, ...            4   \n",
       "3  ul. Niepodległości, Gorzów Wielkopolski, lubuskie            4   \n",
       "4        ul. Kwiatowa, Lubin, lubiński, dolnośląskie            2   \n",
       "\n",
       "   is_for_sale                                              title     market  \\\n",
       "0         True  Kameralny zakątek blisko wszędzie 2 pokoje 55 ...  secondary   \n",
       "1         True     Wykończone mieszkanie, gotowe do zamieszkania!  secondary   \n",
       "2         True  Mieszkanie 4-pokojowe,blisko jeziora na I pięt...  secondary   \n",
       "3         True               4 pokoje, 81 m2, w super lokalizacji  secondary   \n",
       "4         True             Sprzedam Mieszkanie ul. Kwiatowa-Lubin    primary   \n",
       "\n",
       "  form_of_property  surface  remote_support advertiser_type  \\\n",
       "0   pełna własność    55.00           False          agency   \n",
       "1   pełna własność    33.72           False          agency   \n",
       "2   pełna własność    56.51           False          agency   \n",
       "3   pełna własność    81.00           False         private   \n",
       "4   pełna własność    40.18           False         private   \n",
       "\n",
       "                                                 url  \\\n",
       "0  https://otodom.pl/pl/oferta/kameralny-zakatek-...   \n",
       "1  https://otodom.pl/pl/oferta/wykonczone-mieszka...   \n",
       "2  https://otodom.pl/pl/oferta/mieszkanie-4-pokoj...   \n",
       "3  https://otodom.pl/pl/oferta/4-pokoje-81-m2-w-s...   \n",
       "4  https://otodom.pl/pl/oferta/sprzedam-mieszkani...   \n",
       "\n",
       "                                         description  \n",
       "0  Jeśli chcesz mieszkać w zielonej okolicy lecz ...  \n",
       "1  Z dumą prezentujemy na sprzedaż urokliwe miesz...  \n",
       "2  Jeśli szukają Państwo idealnej nieruchomości, ...  \n",
       "3  Sprzedaż bez pośredników, bez prowizjiSprzedam...  \n",
       "4  Oferta od właściciela- bez Pośredników.\\r\\n\\r\\...  "
      ]
     },
     "execution_count": 29,
     "metadata": {},
     "output_type": "execute_result"
    }
   ],
   "source": [
    "df.head()"
   ]
  },
  {
   "cell_type": "markdown",
   "id": "b2eb4241",
   "metadata": {},
   "source": [
    "<span style=\"color:blue\">For our calculations in SQL we want 'posting_id' to be our Primary Key and it can only be achieved if all the values of 'posting_id' are unique. \n",
    "    So let's check</span> "
   ]
  },
  {
   "cell_type": "code",
   "execution_count": 30,
   "id": "9ac9d61b",
   "metadata": {},
   "outputs": [
    {
     "name": "stdout",
     "output_type": "stream",
     "text": [
      "Are there any duplicate 'posting_id's: True\n"
     ]
    }
   ],
   "source": [
    "duplicates = df['posting_id'].duplicated().any()\n",
    "print(\"Are there any duplicate 'posting_id's:\", duplicates)"
   ]
  },
  {
   "cell_type": "markdown",
   "id": "3645cf58",
   "metadata": {},
   "source": [
    "<span style=\"color:blue\">It means we have duplicate entries in 'posting_id' and we want to remove duplicate entries in posting_id. It can be done by using duplicated() method in pandas returns a boolean Series indicating whether each row is a duplicate of a row occurring earlier in the DataFrame.</span>"
   ]
  },
  {
   "cell_type": "code",
   "execution_count": 31,
   "id": "535a18bd",
   "metadata": {},
   "outputs": [
    {
     "name": "stdout",
     "output_type": "stream",
     "text": [
      "['4k9TP' '4lYBy' '4lBh3']\n"
     ]
    }
   ],
   "source": [
    "# Find duplicated 'posting_id' entries\n",
    "duplicate_posting_ids = df[df['posting_id'].duplicated(keep=False)]['posting_id']\n",
    "\n",
    "# Display the duplicated 'posting_id' values\n",
    "print(duplicate_posting_ids.unique())"
   ]
  },
  {
   "cell_type": "markdown",
   "id": "387fa9fc",
   "metadata": {},
   "source": [
    "<span style=\"color:blue\">So it means ['4k9TP' '4lYBy' '4lBh3'] are duplicate entries in the 'posting_id' column and we can keep the first occurence of ['4k9TP' '4lYBy' '4lBh3'] and remove the duplicate entries.</span> "
   ]
  },
  {
   "cell_type": "markdown",
   "id": "9b3b0d67",
   "metadata": {},
   "source": [
    "<span style=\"color:blue\">The duplicated method in pandas returns a boolean Series indicating whether each row is a duplicate of a row occurring earlier in the DataFrame.</span>\n",
    "\n",
    "<span style=\"color:blue\"> When you use duplicated(keep=False), it marks all duplicates as True, not just the first or last occurrence. So when you filter the DataFrame df using this boolean Series</span>  "
   ]
  },
  {
   "cell_type": "code",
   "execution_count": 32,
   "id": "8c7b6e84",
   "metadata": {},
   "outputs": [],
   "source": [
    "duplicates = df[df['posting_id'].duplicated(keep=False)]"
   ]
  },
  {
   "cell_type": "code",
   "execution_count": 33,
   "id": "603c627a",
   "metadata": {},
   "outputs": [
    {
     "data": {
      "text/html": [
       "<div>\n",
       "<style scoped>\n",
       "    .dataframe tbody tr th:only-of-type {\n",
       "        vertical-align: middle;\n",
       "    }\n",
       "\n",
       "    .dataframe tbody tr th {\n",
       "        vertical-align: top;\n",
       "    }\n",
       "\n",
       "    .dataframe thead th {\n",
       "        text-align: right;\n",
       "    }\n",
       "</style>\n",
       "<table border=\"1\" class=\"dataframe\">\n",
       "  <thead>\n",
       "    <tr style=\"text-align: right;\">\n",
       "      <th></th>\n",
       "      <th>posting_id</th>\n",
       "      <th>timestamp</th>\n",
       "      <th>year</th>\n",
       "      <th>month</th>\n",
       "      <th>weekday</th>\n",
       "      <th>price</th>\n",
       "      <th>location</th>\n",
       "      <th>no_of_rooms</th>\n",
       "      <th>is_for_sale</th>\n",
       "      <th>title</th>\n",
       "      <th>market</th>\n",
       "      <th>form_of_property</th>\n",
       "      <th>surface</th>\n",
       "      <th>remote_support</th>\n",
       "      <th>advertiser_type</th>\n",
       "      <th>url</th>\n",
       "      <th>description</th>\n",
       "    </tr>\n",
       "  </thead>\n",
       "  <tbody>\n",
       "    <tr>\n",
       "      <th>199</th>\n",
       "      <td>4k9TP</td>\n",
       "      <td>2023-09-04</td>\n",
       "      <td>2023</td>\n",
       "      <td>9</td>\n",
       "      <td>Monday</td>\n",
       "      <td>598000.0</td>\n",
       "      <td>ul. Janowska, Cisowa, Gdynia, pomorskie</td>\n",
       "      <td>3</td>\n",
       "      <td>True</td>\n",
       "      <td>Gotowe do zamieszkania 3 pokoje, 62,80m2, Cisowa</td>\n",
       "      <td>secondary</td>\n",
       "      <td>pełna własność</td>\n",
       "      <td>62.8</td>\n",
       "      <td>False</td>\n",
       "      <td>agency</td>\n",
       "      <td>https://www.otodom.pl/pl/oferta/gotowe-do-zami...</td>\n",
       "      <td>Mieszkanie gotowe do zamieszkania w Gdyni-Ciso...</td>\n",
       "    </tr>\n",
       "    <tr>\n",
       "      <th>355</th>\n",
       "      <td>4lYBy</td>\n",
       "      <td>2024-02-20</td>\n",
       "      <td>2024</td>\n",
       "      <td>2</td>\n",
       "      <td>Tuesday</td>\n",
       "      <td>359000.0</td>\n",
       "      <td>ul. Trzech Krzyży, Radziejów, Rybnik, śląskie</td>\n",
       "      <td>6</td>\n",
       "      <td>True</td>\n",
       "      <td>Na sprzedaż dom Rybnik-Radziejów! Duża działka!</td>\n",
       "      <td>secondary</td>\n",
       "      <td>pełna własność</td>\n",
       "      <td>110.0</td>\n",
       "      <td>True</td>\n",
       "      <td>agency</td>\n",
       "      <td>https://otodom.pl/pl/oferta/na-sprzedaz-dom-ry...</td>\n",
       "      <td>DOM WYPŁACONY ZE SZKÓD GÓRNICZYCH.Na sprzedaż ...</td>\n",
       "    </tr>\n",
       "    <tr>\n",
       "      <th>558</th>\n",
       "      <td>4lYBy</td>\n",
       "      <td>2023-09-04</td>\n",
       "      <td>2023</td>\n",
       "      <td>9</td>\n",
       "      <td>Monday</td>\n",
       "      <td>359000.0</td>\n",
       "      <td>ul. Trzech Krzyży, Radziejów, Rybnik, śląskie</td>\n",
       "      <td>6</td>\n",
       "      <td>True</td>\n",
       "      <td>Na sprzedaż dom Rybnik-Radziejów! Duża działka!</td>\n",
       "      <td>secondary</td>\n",
       "      <td>pełna własność</td>\n",
       "      <td>110.0</td>\n",
       "      <td>True</td>\n",
       "      <td>agency</td>\n",
       "      <td>https://www.otodom.pl/pl/oferta/na-sprzedaz-do...</td>\n",
       "      <td>DOM WYPŁACONY ZE SZKÓD GÓRNICZYCH.Na sprzedaż ...</td>\n",
       "    </tr>\n",
       "    <tr>\n",
       "      <th>590</th>\n",
       "      <td>4k9TP</td>\n",
       "      <td>2023-09-04</td>\n",
       "      <td>2023</td>\n",
       "      <td>9</td>\n",
       "      <td>Monday</td>\n",
       "      <td>598000.0</td>\n",
       "      <td>ul. Janowska, Cisowa, Gdynia, pomorskie</td>\n",
       "      <td>3</td>\n",
       "      <td>True</td>\n",
       "      <td>Gotowe do zamieszkania 3 pokoje, 62,80m2, Cisowa</td>\n",
       "      <td>secondary</td>\n",
       "      <td>pełna własność</td>\n",
       "      <td>62.8</td>\n",
       "      <td>False</td>\n",
       "      <td>agency</td>\n",
       "      <td>https://otodom.pl/pl/oferta/gotowe-do-zamieszk...</td>\n",
       "      <td>Mieszkanie gotowe do zamieszkania w Gdyni-Ciso...</td>\n",
       "    </tr>\n",
       "    <tr>\n",
       "      <th>591</th>\n",
       "      <td>4lBh3</td>\n",
       "      <td>2023-09-04</td>\n",
       "      <td>2023</td>\n",
       "      <td>9</td>\n",
       "      <td>Monday</td>\n",
       "      <td>479000.0</td>\n",
       "      <td>Czerniejewo, Czerniejewo, gnieźnieński, wielko...</td>\n",
       "      <td>4</td>\n",
       "      <td>True</td>\n",
       "      <td>Gotowe! Poznan Wrzesnia Czerniejewo</td>\n",
       "      <td>primary</td>\n",
       "      <td>pełna własność</td>\n",
       "      <td>96.0</td>\n",
       "      <td>True</td>\n",
       "      <td>agency</td>\n",
       "      <td>https://otodom.pl/pl/oferta/gotowe-poznan-wrze...</td>\n",
       "      <td>W PROPOZYCJI SPRZEDAŻY PROPONUJEMY NOWO POWSTA...</td>\n",
       "    </tr>\n",
       "    <tr>\n",
       "      <th>633</th>\n",
       "      <td>4lBh3</td>\n",
       "      <td>2024-01-17</td>\n",
       "      <td>2024</td>\n",
       "      <td>1</td>\n",
       "      <td>Wednesday</td>\n",
       "      <td>479000.0</td>\n",
       "      <td>Czerniejewo, Czerniejewo, gnieźnieński, wielko...</td>\n",
       "      <td>4</td>\n",
       "      <td>True</td>\n",
       "      <td>Gotowe! Poznan Wrzesnia Czerniejewo</td>\n",
       "      <td>primary</td>\n",
       "      <td>pełna własność</td>\n",
       "      <td>96.0</td>\n",
       "      <td>True</td>\n",
       "      <td>agency</td>\n",
       "      <td>https://www.otodom.pl/pl/oferta/gotowe-poznan-...</td>\n",
       "      <td>W PROPOZYCJI SPRZEDAŻY PROPONUJEMY NOWO POWSTA...</td>\n",
       "    </tr>\n",
       "  </tbody>\n",
       "</table>\n",
       "</div>"
      ],
      "text/plain": [
       "    posting_id  timestamp  year  month    weekday     price  \\\n",
       "199      4k9TP 2023-09-04  2023      9     Monday  598000.0   \n",
       "355      4lYBy 2024-02-20  2024      2    Tuesday  359000.0   \n",
       "558      4lYBy 2023-09-04  2023      9     Monday  359000.0   \n",
       "590      4k9TP 2023-09-04  2023      9     Monday  598000.0   \n",
       "591      4lBh3 2023-09-04  2023      9     Monday  479000.0   \n",
       "633      4lBh3 2024-01-17  2024      1  Wednesday  479000.0   \n",
       "\n",
       "                                              location  no_of_rooms  \\\n",
       "199            ul. Janowska, Cisowa, Gdynia, pomorskie            3   \n",
       "355      ul. Trzech Krzyży, Radziejów, Rybnik, śląskie            6   \n",
       "558      ul. Trzech Krzyży, Radziejów, Rybnik, śląskie            6   \n",
       "590            ul. Janowska, Cisowa, Gdynia, pomorskie            3   \n",
       "591  Czerniejewo, Czerniejewo, gnieźnieński, wielko...            4   \n",
       "633  Czerniejewo, Czerniejewo, gnieźnieński, wielko...            4   \n",
       "\n",
       "     is_for_sale                                             title     market  \\\n",
       "199         True  Gotowe do zamieszkania 3 pokoje, 62,80m2, Cisowa  secondary   \n",
       "355         True   Na sprzedaż dom Rybnik-Radziejów! Duża działka!  secondary   \n",
       "558         True   Na sprzedaż dom Rybnik-Radziejów! Duża działka!  secondary   \n",
       "590         True  Gotowe do zamieszkania 3 pokoje, 62,80m2, Cisowa  secondary   \n",
       "591         True               Gotowe! Poznan Wrzesnia Czerniejewo    primary   \n",
       "633         True               Gotowe! Poznan Wrzesnia Czerniejewo    primary   \n",
       "\n",
       "    form_of_property  surface  remote_support advertiser_type  \\\n",
       "199   pełna własność     62.8           False          agency   \n",
       "355   pełna własność    110.0            True          agency   \n",
       "558   pełna własność    110.0            True          agency   \n",
       "590   pełna własność     62.8           False          agency   \n",
       "591   pełna własność     96.0            True          agency   \n",
       "633   pełna własność     96.0            True          agency   \n",
       "\n",
       "                                                   url  \\\n",
       "199  https://www.otodom.pl/pl/oferta/gotowe-do-zami...   \n",
       "355  https://otodom.pl/pl/oferta/na-sprzedaz-dom-ry...   \n",
       "558  https://www.otodom.pl/pl/oferta/na-sprzedaz-do...   \n",
       "590  https://otodom.pl/pl/oferta/gotowe-do-zamieszk...   \n",
       "591  https://otodom.pl/pl/oferta/gotowe-poznan-wrze...   \n",
       "633  https://www.otodom.pl/pl/oferta/gotowe-poznan-...   \n",
       "\n",
       "                                           description  \n",
       "199  Mieszkanie gotowe do zamieszkania w Gdyni-Ciso...  \n",
       "355  DOM WYPŁACONY ZE SZKÓD GÓRNICZYCH.Na sprzedaż ...  \n",
       "558  DOM WYPŁACONY ZE SZKÓD GÓRNICZYCH.Na sprzedaż ...  \n",
       "590  Mieszkanie gotowe do zamieszkania w Gdyni-Ciso...  \n",
       "591  W PROPOZYCJI SPRZEDAŻY PROPONUJEMY NOWO POWSTA...  \n",
       "633  W PROPOZYCJI SPRZEDAŻY PROPONUJEMY NOWO POWSTA...  "
      ]
     },
     "execution_count": 33,
     "metadata": {},
     "output_type": "execute_result"
    }
   ],
   "source": [
    "specific_ids = ['4k9TP', '4lYBy', '4lBh3'] \n",
    "filtered_duplicates = duplicates[duplicates['posting_id'].isin(specific_ids)]\n",
    "filtered_duplicates"
   ]
  },
  {
   "cell_type": "markdown",
   "id": "a6597139",
   "metadata": {},
   "source": [
    "<span style=\"color:blue\">Let's keep the first occurence of the repeated values and drop the other occurences of the repeated values</span>  "
   ]
  },
  {
   "cell_type": "code",
   "execution_count": 34,
   "id": "cad57525",
   "metadata": {},
   "outputs": [],
   "source": [
    "df = df.drop_duplicates(subset='posting_id', keep='first')"
   ]
  },
  {
   "cell_type": "markdown",
   "id": "191a264f",
   "metadata": {},
   "source": [
    "<span style=\"color:blue\">Now let's check whether there are any duplicate entries remaining in our 'posting_id'</span>  "
   ]
  },
  {
   "cell_type": "code",
   "execution_count": 35,
   "id": "a91af35e",
   "metadata": {},
   "outputs": [
    {
     "name": "stdout",
     "output_type": "stream",
     "text": [
      "Are there any duplicate 'posting_id's: False\n"
     ]
    }
   ],
   "source": [
    "duplicates = df['posting_id'].duplicated().any()\n",
    "print(\"Are there any duplicate 'posting_id's:\", duplicates)"
   ]
  },
  {
   "cell_type": "markdown",
   "id": "03e7072d",
   "metadata": {},
   "source": [
    "<span style=\"color:blue\">We can finally save this dataframe to a CSV file for our analysis in SQL</span> "
   ]
  },
  {
   "cell_type": "code",
   "execution_count": null,
   "id": "0b83d903",
   "metadata": {},
   "outputs": [],
   "source": [
    "df.to_csv(r\"E:\\Github Projects\\Otodom.csv\", index=False)"
   ]
  },
  {
   "cell_type": "markdown",
   "id": "d1aeb32d",
   "metadata": {},
   "source": [
    "<span style=\"color:blue\">VISUALIZATION USING SEABORN AND MATPLOTLIB</span> "
   ]
  },
  {
   "cell_type": "code",
   "execution_count": 36,
   "id": "c8fc8d69",
   "metadata": {},
   "outputs": [],
   "source": [
    "import matplotlib.pyplot as plt\n",
    "import seaborn as sns"
   ]
  },
  {
   "cell_type": "code",
   "execution_count": 37,
   "id": "6db02e02",
   "metadata": {},
   "outputs": [
    {
     "data": {
      "image/png": "[encoded data removed]",
      "text/plain": [
       "<Figure size 576x432 with 1 Axes>"
      ]
     },
     "metadata": {
      "needs_background": "light"
     },
     "output_type": "display_data"
    }
   ],
   "source": [
    "#Average Price by Room Number:\n",
    "plt.figure(figsize=(8,6))\n",
    "avg_price_per_room = df.groupby('no_of_rooms')['price'].mean().reset_index()\n",
    "plt.bar(avg_price_per_room['no_of_rooms'], avg_price_per_room['price'], color='red')\n",
    "plt.title('Average Price by Number of Rooms')\n",
    "plt.xlabel('Number of Rooms')\n",
    "plt.ylabel('Average Price')\n",
    "plt.show()"
   ]
  },
  {
   "cell_type": "code",
   "execution_count": 38,
   "id": "7f9f5f08",
   "metadata": {},
   "outputs": [
    {
     "data": {
      "image/png": "[encoded data removed]",
      "text/plain": [
       "<Figure size 576x432 with 1 Axes>"
      ]
     },
     "metadata": {
      "needs_background": "light"
     },
     "output_type": "display_data"
    }
   ],
   "source": [
    "#Box Plot of Prices\n",
    "plt.figure(figsize=(8,6))\n",
    "plt.boxplot(df['price'], vert=True)\n",
    "plt.title('Box Plot of Property Prices')\n",
    "plt.yscale('log')\n",
    "plt.xlabel('Price')\n",
    "plt.show()"
   ]
  },
  {
   "cell_type": "code",
   "execution_count": 39,
   "id": "1d8ea7f3",
   "metadata": {},
   "outputs": [
    {
     "data": {
      "image/png": "[encoded data removed]",
      "text/plain": [
       "<Figure size 576x432 with 1 Axes>"
      ]
     },
     "metadata": {
      "needs_background": "light"
     },
     "output_type": "display_data"
    }
   ],
   "source": [
    "# Histogram for Surface Area Distribution:\n",
    "plt.figure(figsize=(8,6))\n",
    "plt.hist(df['surface'], bins=50, color='orange', edgecolor='black')\n",
    "plt.title('Distribution of Property Surface Area')\n",
    "plt.xlabel('Surface Area (m²)')\n",
    "plt.ylabel('Number of Properties')\n",
    "plt.show()"
   ]
  },
  {
   "cell_type": "code",
   "execution_count": 40,
   "id": "a6569d45",
   "metadata": {},
   "outputs": [
    {
     "data": {
      "image/png": "[encoded data removed]",
      "text/plain": [
       "<Figure size 576x432 with 1 Axes>"
      ]
     },
     "metadata": {
      "needs_background": "light"
     },
     "output_type": "display_data"
    }
   ],
   "source": [
    "#Property Counts by Weekday:\n",
    "plt.figure(figsize=(8,6))\n",
    "weekday_counts = df['weekday'].value_counts()\n",
    "weekday_order = ['Monday', 'Tuesday', 'Wednesday', 'Thursday', 'Friday', 'Saturday', 'Sunday']\n",
    "plt.bar(weekday_counts.index, weekday_counts.values, color='violet')\n",
    "plt.title('Property Counts by Day of the Week')\n",
    "plt.xlabel('Day of the Week')\n",
    "plt.ylabel('Number of Properties')\n",
    "plt.xticks(rotation=45)\n",
    "plt.show()"
   ]
  },
  {
   "cell_type": "code",
   "execution_count": 41,
   "id": "6d21839b",
   "metadata": {},
   "outputs": [
    {
     "data": {
      "image/png": "[encoded data removed]",
      "text/plain": [
       "<Figure size 576x432 with 1 Axes>"
      ]
     },
     "metadata": {
      "needs_background": "light"
     },
     "output_type": "display_data"
    }
   ],
   "source": [
    "#Number of Rooms vs Price: \n",
    "plt.figure(figsize=(8,6))\n",
    "plt.scatter(df['no_of_rooms'], df['price'], alpha=0.5)\n",
    "plt.title('Property Price vs Number of Rooms')\n",
    "plt.xlabel('Number of Rooms')\n",
    "plt.ylabel('Price')\n",
    "plt.show()"
   ]
  },
  {
   "cell_type": "code",
   "execution_count": 42,
   "id": "c3a38c9c",
   "metadata": {},
   "outputs": [
    {
     "data": {
      "image/png": "[encoded data removed]",
      "text/plain": [
       "<Figure size 576x432 with 1 Axes>"
      ]
     },
     "metadata": {
      "needs_background": "light"
     },
     "output_type": "display_data"
    }
   ],
   "source": [
    "#Histogram : Price Distribution\n",
    "plt.figure(figsize=(8,6))\n",
    "plt.hist(df['price'], bins=50, color='blue', edgecolor='black')\n",
    "plt.title('Distribution of Property Prices')\n",
    "plt.xlabel('Price')\n",
    "plt.ylabel('Number of Properties')\n",
    "plt.show()"
   ]
  },
  {
   "cell_type": "code",
   "execution_count": 47,
   "id": "7a19b07a",
   "metadata": {},
   "outputs": [
    {
     "data": {
      "image/png": "[encoded data removed]",
      "text/plain": [
       "<Figure size 576x432 with 1 Axes>"
      ]
     },
     "metadata": {
      "needs_background": "light"
     },
     "output_type": "display_data"
    }
   ],
   "source": [
    "#Histogram showing No of Rooms\n",
    "plt.figure(figsize=(8,6))\n",
    "sns.histplot(data=df, x='no_of_rooms', color='turquoise', edgecolor='black', binwidth=1, kde=True)\n",
    "plt.title('Distribution of Number of Rooms')\n",
    "plt.xlabel('Number of Rooms')\n",
    "plt.ylabel('Count')\n",
    "plt.show()"
   ]
  },
  {
   "cell_type": "code",
   "execution_count": 44,
   "id": "f1296c0d",
   "metadata": {},
   "outputs": [
    {
     "data": {
      "image/png": "[encoded data removed]",
      "text/plain": [
       "<Figure size 576x432 with 1 Axes>"
      ]
     },
     "metadata": {
      "needs_background": "light"
     },
     "output_type": "display_data"
    }
   ],
   "source": [
    "#For the Price Distribution Histogram:\n",
    "plt.figure(figsize=(8,6))\n",
    "sns.histplot(data=df, x='price', color='#8B1A1A', edgecolor='w', binwidth=5000)\n",
    "plt.title('Distribution of Property Prices')\n",
    "plt.xlabel('Price (PLN)')\n",
    "plt.ylabel('Count')\n",
    "plt.grid(True)\n",
    "plt.show()\n",
    "#sns.histplot(data=df, x='price')"
   ]
  },
  {
   "cell_type": "code",
   "execution_count": 45,
   "id": "9b11305f",
   "metadata": {},
   "outputs": [
    {
     "data": {
      "image/png": "[encoded data removed]",
      "text/plain": [
       "<Figure size 576x432 with 1 Axes>"
      ]
     },
     "metadata": {
      "needs_background": "light"
     },
     "output_type": "display_data"
    }
   ],
   "source": [
    "#Linear Regression model fit \n",
    "plt.figure(figsize=(8,6))\n",
    "sns.regplot(data=df, x='no_of_rooms', y='price', color='darkcyan', scatter_kws={'alpha':0.3}, line_kws={'color':'red'})\n",
    "plt.title('Price vs. Number of Rooms')\n",
    "plt.xlabel('Number of Rooms')\n",
    "plt.ylabel('Price (PLN)')\n",
    "plt.grid(True)\n",
    "plt.show()"
   ]
  },
  {
   "cell_type": "code",
   "execution_count": 46,
   "id": "bd2d8805",
   "metadata": {},
   "outputs": [
    {
     "data": {
      "image/png": "[encoded data removed]",
      "text/plain": [
       "<Figure size 576x432 with 1 Axes>"
      ]
     },
     "metadata": {
      "needs_background": "light"
     },
     "output_type": "display_data"
    }
   ],
   "source": [
    "#Scatter Plot between surface and price\n",
    "plt.figure(figsize=(8,6))\n",
    "sns.scatterplot(data=df, x=\"surface\", y=\"price\", color='#8B008B', alpha=0.6)\n",
    "plt.title('Price vs. Surface Area')\n",
    "plt.xlabel('Surface Area (m²)')\n",
    "plt.ylabel('Price (PLN)')\n",
    "plt.grid(True)\n",
    "plt.show()"
   ]
  }
 ],
 "metadata": {
  "kernelspec": {
   "display_name": "Python 3 (ipykernel)",
   "language": "python",
   "name": "python3"
  },
  "language_info": {
   "codemirror_mode": {
    "name": "ipython",
    "version": 3
   },
   "file_extension": ".py",
   "mimetype": "text/x-python",
   "name": "python",
   "nbconvert_exporter": "python",
   "pygments_lexer": "ipython3",
   "version": "3.9.7"
  }
 },
 "nbformat": 4,
 "nbformat_minor": 5
}
